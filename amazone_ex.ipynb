{
 "cells": [
  {
   "cell_type": "markdown",
   "id": "3c0fdc8a",
   "metadata": {},
   "source": [
    "## Mục Đích Phân Cụm và Câu Hỏi Nghiên Cứu\n",
    "\n",
    "**Mục tiêu chính:** Xác định và phân tích các phân khúc sản phẩm trên Amazon dựa trên mối quan hệ giữa các yếu tố: đặc tính/tính năng mô tả của sản phẩm, giá bán và đánh giá từ người dùng. Qua đó, tìm hiểu xem các sản phẩm đang được định vị như thế nào trên thị trường về mặt \"giá trị\" và \"chất lượng\".\n",
    "\n",
    "**Tại sao chọn các thuộc tính này?**\n",
    "\n",
    "* **`about_product` (Mô tả sản phẩm - Dữ liệu Văn bản):**\n",
    "    * **Đóng góp:** Cung cấp thông tin chi tiết về các tính năng, lợi ích, công dụng, và đặc điểm kỹ thuật của sản phẩm. Đây là yếu tố then chốt để hiểu được \"giá trị nội tại\" hoặc \"chất lượng được quảng bá\" của sản phẩm.\n",
    "    * **Vai trò trong phân cụm:** Giúp nhóm các sản phẩm có bộ tính năng tương tự hoặc hướng đến cùng một nhu cầu sử dụng.\n",
    "\n",
    "* **`discounted_price` / `actual_price` (Giá sản phẩm - Dữ liệu Số):**\n",
    "    * **Đóng góp:** Phản ánh chi phí mà người tiêu dùng phải bỏ ra để sở hữu sản phẩm.\n",
    "    * **Vai trò trong phân cụm:** Là một trục quan trọng để so sánh \"giá trị nhận được\" so với \"chi phí bỏ ra\".\n",
    "\n",
    "* **`rating` (Đánh giá trung bình - Dữ liệu Số):**\n",
    "    * **Đóng góp:** Thể hiện mức độ hài lòng của khách hàng đã sử dụng sản phẩm, một thước đo quan trọng về \"chất lượng cảm nhận\" hoặc \"chất lượng thực tế\" sau khi trải nghiệm.\n",
    "    * **Vai trò trong phân cụm:** Giúp xác định mức độ chấp nhận và yêu thích của thị trường đối với sản phẩm.\n",
    "\n",
    "**Các câu hỏi mà việc phân cụm với các thuộc tính này nhằm trả lời:**\n",
    "\n",
    "1.  **Phân khúc sản phẩm theo giá trị và chất lượng:**\n",
    "    * Có thể xác định được các nhóm sản phẩm nào mang lại **\"giá trị tốt nhất\"** (ví dụ: nhiều tính năng được mô tả, rating cao nhưng giá cả phải chăng) không?\n",
    "    * Có thể phân biệt được nhóm sản phẩm **\"cao cấp\"** (ví dụ: mô tả nhiều tính năng vượt trội, rating rất cao, và giá cao tương xứng) với nhóm sản phẩm **\"cơ bản/giá rẻ\"** (ví dụ: mô tả ít tính năng, rating ở mức chấp nhận được, giá thấp) không?\n",
    "\n",
    "2.  **Phát hiện các trường hợp đặc biệt về định giá và cảm nhận chất lượng:**\n",
    "    * Có nhóm sản phẩm nào dường như được **\"định giá quá cao\"** (ví dụ: mô tả nhiều tính năng nhưng rating thực tế thấp so với mức giá) không?\n",
    "    * Có thể tìm ra những **\"món hời tiềm ẩn\"** (ví dụ: rating tốt, giá thấp, nhưng có thể phần mô tả chưa làm nổi bật hết các tính năng giá trị) không?\n",
    "\n",
    "3.  **Hiểu cấu trúc thị trường:**\n",
    "    * Các cụm sản phẩm hình thành có tương quan như thế nào giữa ba yếu tố: tính năng mô tả, giá cả, và đánh giá của người dùng? (Ví dụ: Một cụm có thể là \"các sản phẩm điện tử với mô tả nhiều tính năng, giá cao và rating rất tốt\", trong khi một cụm khác là \"phụ kiện giá rẻ, mô tả đơn giản, rating ở mức khá\").\n",
    "\n",
    "Bằng cách phân cụm dựa trên sự kết hợp của ba thuộc tính này, chúng ta kỳ vọng sẽ khám phá ra những phân khúc sản phẩm có ý nghĩa, từ đó cung cấp cái nhìn sâu sắc hơn về chiến lược sản phẩm và định vị giá trên thị trường."
   ]
  },
  {
   "cell_type": "code",
   "execution_count": 1,
   "id": "2fbb6cda",
   "metadata": {},
   "outputs": [],
   "source": [
    "import pandas as pd\n",
    "import numpy as np\n",
    "import re"
   ]
  },
  {
   "cell_type": "code",
   "execution_count": 6,
   "id": "4b9705de",
   "metadata": {},
   "outputs": [],
   "source": [
    "df = pd.read_csv(\"data/amazon.csv\")"
   ]
  },
  {
   "cell_type": "markdown",
   "id": "ccbf5209",
   "metadata": {},
   "source": [
    "# 1. MÔ TẢ TẬP DỮ LIỆU "
   ]
  },
  {
   "cell_type": "markdown",
   "id": "e1619301",
   "metadata": {},
   "source": [
    "### 📦 Thông tin về tập Amazon Sales Dataset\n",
    "#### 🛍️ Thông tin về sản phẩm\n",
    "\n",
    "| Trường              | Mô tả                                                                 |\n",
    "|---------------------|----------------------------------------------------------------------|\n",
    "| `product_id`        | Mã định danh duy nhất của sản phẩm.                                  |\n",
    "| `product_name`      | Tên sản phẩm.                                                        |\n",
    "| `category`          | Danh mục sản phẩm.                                                   |\n",
    "| `discounted_price`  | Giá sau khi giảm (hiển thị với khách hàng).                          |\n",
    "| `actual_price`      | Giá gốc của sản phẩm trước khi giảm giá.                             |\n",
    "| `discount_percentage` | Phần trăm giảm giá được tính dựa trên `actual_price`.              |\n",
    "| `rating`            | Điểm đánh giá trung bình từ người dùng (thang điểm 5).               |\n",
    "| `rating_count`      | Số lượng người đã đánh giá sản phẩm.                                 |\n",
    "| `about_product`     | Mô tả ngắn hoặc thông tin kỹ thuật về sản phẩm.                      |\n",
    "| `img_link`          | Link hình ảnh đại diện của sản phẩm.                                 |\n",
    "| `product_link`      | Link tới trang chính thức của sản phẩm trên website (Amazon hoặc khác). |\n",
    "\n",
    "#### 🧑 Thông tin đánh giá từ người dùng\n",
    "\n",
    "| Trường           | Mô tả                                                                 |\n",
    "|------------------|----------------------------------------------------------------------|\n",
    "| `user_id`        | Mã định danh của người dùng đã đánh giá sản phẩm.                    |\n",
    "| `user_name`      | Tên người dùng đã viết đánh giá. Có thể là nickname hoặc tên thật.   |\n",
    "| `review_id`      | Mã định danh của đánh giá, dùng để phân biệt từng bài review.        |\n",
    "| `review_title`   | Tiêu đề ngắn gọn của đánh giá, thể hiện ý chính.                     |\n",
    "| `review_content` | Nội dung chi tiết của bài đánh giá từ người dùng.                    |"
   ]
  },
  {
   "cell_type": "markdown",
   "id": "a24b1880",
   "metadata": {},
   "source": [
    "# 2. ĐÁNH GIÁ TẬP DỮ LIỆU "
   ]
  },
  {
   "cell_type": "code",
   "execution_count": 5,
   "id": "16302653",
   "metadata": {},
   "outputs": [
    {
     "name": "stdout",
     "output_type": "stream",
     "text": [
      "Năm dòng đầu tiên của DataFrame thô:\n"
     ]
    },
    {
     "data": {
      "text/html": [
       "<div>\n",
       "<style scoped>\n",
       "    .dataframe tbody tr th:only-of-type {\n",
       "        vertical-align: middle;\n",
       "    }\n",
       "\n",
       "    .dataframe tbody tr th {\n",
       "        vertical-align: top;\n",
       "    }\n",
       "\n",
       "    .dataframe thead th {\n",
       "        text-align: right;\n",
       "    }\n",
       "</style>\n",
       "<table border=\"1\" class=\"dataframe\">\n",
       "  <thead>\n",
       "    <tr style=\"text-align: right;\">\n",
       "      <th></th>\n",
       "      <th>product_id</th>\n",
       "      <th>product_name</th>\n",
       "      <th>category</th>\n",
       "      <th>discounted_price</th>\n",
       "      <th>actual_price</th>\n",
       "      <th>discount_percentage</th>\n",
       "      <th>rating</th>\n",
       "      <th>rating_count</th>\n",
       "      <th>about_product</th>\n",
       "      <th>user_id</th>\n",
       "      <th>user_name</th>\n",
       "      <th>review_id</th>\n",
       "      <th>review_title</th>\n",
       "      <th>review_content</th>\n",
       "      <th>img_link</th>\n",
       "      <th>product_link</th>\n",
       "    </tr>\n",
       "  </thead>\n",
       "  <tbody>\n",
       "    <tr>\n",
       "      <th>0</th>\n",
       "      <td>B07JW9H4J1</td>\n",
       "      <td>Wayona Nylon Braided USB to Lightning Fast Cha...</td>\n",
       "      <td>Computers&amp;Accessories|Accessories&amp;Peripherals|...</td>\n",
       "      <td>₹399</td>\n",
       "      <td>₹1,099</td>\n",
       "      <td>64%</td>\n",
       "      <td>4.2</td>\n",
       "      <td>24,269</td>\n",
       "      <td>High Compatibility : Compatible With iPhone 12...</td>\n",
       "      <td>AG3D6O4STAQKAY2UVGEUV46KN35Q,AHMY5CWJMMK5BJRBB...</td>\n",
       "      <td>Manav,Adarsh gupta,Sundeep,S.Sayeed Ahmed,jasp...</td>\n",
       "      <td>R3HXWT0LRP0NMF,R2AJM3LFTLZHFO,R6AQJGUP6P86,R1K...</td>\n",
       "      <td>Satisfied,Charging is really fast,Value for mo...</td>\n",
       "      <td>Looks durable Charging is fine tooNo complains...</td>\n",
       "      <td>https://m.media-amazon.com/images/W/WEBP_40237...</td>\n",
       "      <td>https://www.amazon.in/Wayona-Braided-WN3LG1-Sy...</td>\n",
       "    </tr>\n",
       "    <tr>\n",
       "      <th>1</th>\n",
       "      <td>B098NS6PVG</td>\n",
       "      <td>Ambrane Unbreakable 60W / 3A Fast Charging 1.5...</td>\n",
       "      <td>Computers&amp;Accessories|Accessories&amp;Peripherals|...</td>\n",
       "      <td>₹199</td>\n",
       "      <td>₹349</td>\n",
       "      <td>43%</td>\n",
       "      <td>4.0</td>\n",
       "      <td>43,994</td>\n",
       "      <td>Compatible with all Type C enabled devices, be...</td>\n",
       "      <td>AECPFYFQVRUWC3KGNLJIOREFP5LQ,AGYYVPDD7YG7FYNBX...</td>\n",
       "      <td>ArdKn,Nirbhay kumar,Sagar Viswanathan,Asp,Plac...</td>\n",
       "      <td>RGIQEG07R9HS2,R1SMWZQ86XIN8U,R2J3Y1WL29GWDE,RY...</td>\n",
       "      <td>A Good Braided Cable for Your Type C Device,Go...</td>\n",
       "      <td>I ordered this cable to connect my phone to An...</td>\n",
       "      <td>https://m.media-amazon.com/images/W/WEBP_40237...</td>\n",
       "      <td>https://www.amazon.in/Ambrane-Unbreakable-Char...</td>\n",
       "    </tr>\n",
       "    <tr>\n",
       "      <th>2</th>\n",
       "      <td>B096MSW6CT</td>\n",
       "      <td>Sounce Fast Phone Charging Cable &amp; Data Sync U...</td>\n",
       "      <td>Computers&amp;Accessories|Accessories&amp;Peripherals|...</td>\n",
       "      <td>₹199</td>\n",
       "      <td>₹1,899</td>\n",
       "      <td>90%</td>\n",
       "      <td>3.9</td>\n",
       "      <td>7,928</td>\n",
       "      <td>【 Fast Charger&amp; Data Sync】-With built-in safet...</td>\n",
       "      <td>AGU3BBQ2V2DDAMOAKGFAWDDQ6QHA,AESFLDV2PT363T2AQ...</td>\n",
       "      <td>Kunal,Himanshu,viswanath,sai niharka,saqib mal...</td>\n",
       "      <td>R3J3EQQ9TZI5ZJ,R3E7WBGK7ID0KV,RWU79XKQ6I1QF,R2...</td>\n",
       "      <td>Good speed for earlier versions,Good Product,W...</td>\n",
       "      <td>Not quite durable and sturdy,https://m.media-a...</td>\n",
       "      <td>https://m.media-amazon.com/images/W/WEBP_40237...</td>\n",
       "      <td>https://www.amazon.in/Sounce-iPhone-Charging-C...</td>\n",
       "    </tr>\n",
       "    <tr>\n",
       "      <th>3</th>\n",
       "      <td>B08HDJ86NZ</td>\n",
       "      <td>boAt Deuce USB 300 2 in 1 Type-C &amp; Micro USB S...</td>\n",
       "      <td>Computers&amp;Accessories|Accessories&amp;Peripherals|...</td>\n",
       "      <td>₹329</td>\n",
       "      <td>₹699</td>\n",
       "      <td>53%</td>\n",
       "      <td>4.2</td>\n",
       "      <td>94,363</td>\n",
       "      <td>The boAt Deuce USB 300 2 in 1 cable is compati...</td>\n",
       "      <td>AEWAZDZZJLQUYVOVGBEUKSLXHQ5A,AG5HTSFRRE6NL3M5S...</td>\n",
       "      <td>Omkar dhale,JD,HEMALATHA,Ajwadh a.,amar singh ...</td>\n",
       "      <td>R3EEUZKKK9J36I,R3HJVYCLYOY554,REDECAZ7AMPQC,R1...</td>\n",
       "      <td>Good product,Good one,Nice,Really nice product...</td>\n",
       "      <td>Good product,long wire,Charges good,Nice,I bou...</td>\n",
       "      <td>https://m.media-amazon.com/images/I/41V5FtEWPk...</td>\n",
       "      <td>https://www.amazon.in/Deuce-300-Resistant-Tang...</td>\n",
       "    </tr>\n",
       "    <tr>\n",
       "      <th>4</th>\n",
       "      <td>B08CF3B7N1</td>\n",
       "      <td>Portronics Konnect L 1.2M Fast Charging 3A 8 P...</td>\n",
       "      <td>Computers&amp;Accessories|Accessories&amp;Peripherals|...</td>\n",
       "      <td>₹154</td>\n",
       "      <td>₹399</td>\n",
       "      <td>61%</td>\n",
       "      <td>4.2</td>\n",
       "      <td>16,905</td>\n",
       "      <td>[CHARGE &amp; SYNC FUNCTION]- This cable comes wit...</td>\n",
       "      <td>AE3Q6KSUK5P75D5HFYHCRAOLODSA,AFUGIFH5ZAFXRDSZH...</td>\n",
       "      <td>rahuls6099,Swasat Borah,Ajay Wadke,Pranali,RVK...</td>\n",
       "      <td>R1BP4L2HH9TFUP,R16PVJEXKV6QZS,R2UPDB81N66T4P,R...</td>\n",
       "      <td>As good as original,Decent,Good one for second...</td>\n",
       "      <td>Bought this instead of original apple, does th...</td>\n",
       "      <td>https://m.media-amazon.com/images/W/WEBP_40237...</td>\n",
       "      <td>https://www.amazon.in/Portronics-Konnect-POR-1...</td>\n",
       "    </tr>\n",
       "  </tbody>\n",
       "</table>\n",
       "</div>"
      ],
      "text/plain": [
       "   product_id                                       product_name  \\\n",
       "0  B07JW9H4J1  Wayona Nylon Braided USB to Lightning Fast Cha...   \n",
       "1  B098NS6PVG  Ambrane Unbreakable 60W / 3A Fast Charging 1.5...   \n",
       "2  B096MSW6CT  Sounce Fast Phone Charging Cable & Data Sync U...   \n",
       "3  B08HDJ86NZ  boAt Deuce USB 300 2 in 1 Type-C & Micro USB S...   \n",
       "4  B08CF3B7N1  Portronics Konnect L 1.2M Fast Charging 3A 8 P...   \n",
       "\n",
       "                                            category discounted_price  \\\n",
       "0  Computers&Accessories|Accessories&Peripherals|...             ₹399   \n",
       "1  Computers&Accessories|Accessories&Peripherals|...             ₹199   \n",
       "2  Computers&Accessories|Accessories&Peripherals|...             ₹199   \n",
       "3  Computers&Accessories|Accessories&Peripherals|...             ₹329   \n",
       "4  Computers&Accessories|Accessories&Peripherals|...             ₹154   \n",
       "\n",
       "  actual_price discount_percentage rating rating_count  \\\n",
       "0       ₹1,099                 64%    4.2       24,269   \n",
       "1         ₹349                 43%    4.0       43,994   \n",
       "2       ₹1,899                 90%    3.9        7,928   \n",
       "3         ₹699                 53%    4.2       94,363   \n",
       "4         ₹399                 61%    4.2       16,905   \n",
       "\n",
       "                                       about_product  \\\n",
       "0  High Compatibility : Compatible With iPhone 12...   \n",
       "1  Compatible with all Type C enabled devices, be...   \n",
       "2  【 Fast Charger& Data Sync】-With built-in safet...   \n",
       "3  The boAt Deuce USB 300 2 in 1 cable is compati...   \n",
       "4  [CHARGE & SYNC FUNCTION]- This cable comes wit...   \n",
       "\n",
       "                                             user_id  \\\n",
       "0  AG3D6O4STAQKAY2UVGEUV46KN35Q,AHMY5CWJMMK5BJRBB...   \n",
       "1  AECPFYFQVRUWC3KGNLJIOREFP5LQ,AGYYVPDD7YG7FYNBX...   \n",
       "2  AGU3BBQ2V2DDAMOAKGFAWDDQ6QHA,AESFLDV2PT363T2AQ...   \n",
       "3  AEWAZDZZJLQUYVOVGBEUKSLXHQ5A,AG5HTSFRRE6NL3M5S...   \n",
       "4  AE3Q6KSUK5P75D5HFYHCRAOLODSA,AFUGIFH5ZAFXRDSZH...   \n",
       "\n",
       "                                           user_name  \\\n",
       "0  Manav,Adarsh gupta,Sundeep,S.Sayeed Ahmed,jasp...   \n",
       "1  ArdKn,Nirbhay kumar,Sagar Viswanathan,Asp,Plac...   \n",
       "2  Kunal,Himanshu,viswanath,sai niharka,saqib mal...   \n",
       "3  Omkar dhale,JD,HEMALATHA,Ajwadh a.,amar singh ...   \n",
       "4  rahuls6099,Swasat Borah,Ajay Wadke,Pranali,RVK...   \n",
       "\n",
       "                                           review_id  \\\n",
       "0  R3HXWT0LRP0NMF,R2AJM3LFTLZHFO,R6AQJGUP6P86,R1K...   \n",
       "1  RGIQEG07R9HS2,R1SMWZQ86XIN8U,R2J3Y1WL29GWDE,RY...   \n",
       "2  R3J3EQQ9TZI5ZJ,R3E7WBGK7ID0KV,RWU79XKQ6I1QF,R2...   \n",
       "3  R3EEUZKKK9J36I,R3HJVYCLYOY554,REDECAZ7AMPQC,R1...   \n",
       "4  R1BP4L2HH9TFUP,R16PVJEXKV6QZS,R2UPDB81N66T4P,R...   \n",
       "\n",
       "                                        review_title  \\\n",
       "0  Satisfied,Charging is really fast,Value for mo...   \n",
       "1  A Good Braided Cable for Your Type C Device,Go...   \n",
       "2  Good speed for earlier versions,Good Product,W...   \n",
       "3  Good product,Good one,Nice,Really nice product...   \n",
       "4  As good as original,Decent,Good one for second...   \n",
       "\n",
       "                                      review_content  \\\n",
       "0  Looks durable Charging is fine tooNo complains...   \n",
       "1  I ordered this cable to connect my phone to An...   \n",
       "2  Not quite durable and sturdy,https://m.media-a...   \n",
       "3  Good product,long wire,Charges good,Nice,I bou...   \n",
       "4  Bought this instead of original apple, does th...   \n",
       "\n",
       "                                            img_link  \\\n",
       "0  https://m.media-amazon.com/images/W/WEBP_40237...   \n",
       "1  https://m.media-amazon.com/images/W/WEBP_40237...   \n",
       "2  https://m.media-amazon.com/images/W/WEBP_40237...   \n",
       "3  https://m.media-amazon.com/images/I/41V5FtEWPk...   \n",
       "4  https://m.media-amazon.com/images/W/WEBP_40237...   \n",
       "\n",
       "                                        product_link  \n",
       "0  https://www.amazon.in/Wayona-Braided-WN3LG1-Sy...  \n",
       "1  https://www.amazon.in/Ambrane-Unbreakable-Char...  \n",
       "2  https://www.amazon.in/Sounce-iPhone-Charging-C...  \n",
       "3  https://www.amazon.in/Deuce-300-Resistant-Tang...  \n",
       "4  https://www.amazon.in/Portronics-Konnect-POR-1...  "
      ]
     },
     "execution_count": 5,
     "metadata": {},
     "output_type": "execute_result"
    }
   ],
   "source": [
    "print(\"Năm dòng đầu tiên của DataFrame thô:\")\n",
    "df.head()"
   ]
  },
  {
   "cell_type": "code",
   "execution_count": 7,
   "id": "fefb9710",
   "metadata": {},
   "outputs": [
    {
     "name": "stdout",
     "output_type": "stream",
     "text": [
      "\n",
      "Kích thước của DataFrame thô: 1465 dòng, 16 cột\n"
     ]
    }
   ],
   "source": [
    "print(f\"\\nKích thước của DataFrame thô: {df.shape[0]} dòng, {df.shape[1]} cột\")"
   ]
  },
  {
   "cell_type": "code",
   "execution_count": 10,
   "id": "e2ec0c05",
   "metadata": {},
   "outputs": [
    {
     "name": "stdout",
     "output_type": "stream",
     "text": [
      "<class 'pandas.core.frame.DataFrame'>\n",
      "RangeIndex: 1465 entries, 0 to 1464\n",
      "Data columns (total 16 columns):\n",
      " #   Column               Non-Null Count  Dtype \n",
      "---  ------               --------------  ----- \n",
      " 0   product_id           1465 non-null   object\n",
      " 1   product_name         1465 non-null   object\n",
      " 2   category             1465 non-null   object\n",
      " 3   discounted_price     1465 non-null   object\n",
      " 4   actual_price         1465 non-null   object\n",
      " 5   discount_percentage  1465 non-null   object\n",
      " 6   rating               1465 non-null   object\n",
      " 7   rating_count         1463 non-null   object\n",
      " 8   about_product        1465 non-null   object\n",
      " 9   user_id              1465 non-null   object\n",
      " 10  user_name            1465 non-null   object\n",
      " 11  review_id            1465 non-null   object\n",
      " 12  review_title         1465 non-null   object\n",
      " 13  review_content       1465 non-null   object\n",
      " 14  img_link             1465 non-null   object\n",
      " 15  product_link         1465 non-null   object\n",
      "dtypes: object(16)\n",
      "memory usage: 183.3+ KB\n"
     ]
    }
   ],
   "source": [
    "df.info()"
   ]
  },
  {
   "cell_type": "markdown",
   "id": "58a21102",
   "metadata": {},
   "source": [
    "Ta thấy dữ liệu gồm có 1465 dòng với 16 cột dữ liệu dưới dạng object."
   ]
  },
  {
   "cell_type": "markdown",
   "id": "49edd481",
   "metadata": {},
   "source": [
    "Các cột discounted_price, actual_price, discount_percentage, rating, rating_count cần chuyển về  dạng số:\n",
    "| **Cột**              | **Kiểu mới** | **Ghi chú**                                                            |\n",
    "|----------------------|--------------|------------------------------------------------------------------------|\n",
    "| `discounted_price`   | `float`      | Cần loại bỏ ký tự `₹`, dấu phẩy nếu có trước khi chuyển đổi kiểu      |\n",
    "| `actual_price`       | `float`      | Cần loại bỏ ký tự `₹`, dấu phẩy nếu có trước khi chuyển đổi kiểu      |\n",
    "| `rating`             | `float`      | Đã ở dạng số thập phân, chỉ cần ép kiểu nếu cần                        |\n",
    "| `discount_percentage`| `int`        | Cần loại bỏ dấu `%` trước khi ép kiểu                                 |\n",
    "| `rating_count`       | `int`        | Loại bỏ dấu phẩy hàng nghìn (`,`) trước khi ép kiểu                   |"
   ]
  },
  {
   "cell_type": "markdown",
   "id": "57e0cff2",
   "metadata": {},
   "source": [
    "Các cột product_name, category, about_product, review_title, review_content cần xử lý dạng văn bản, rút gọn nội dung, tên sản phẩm/ danh mục: \n"
   ]
  },
  {
   "cell_type": "markdown",
   "id": "e206a52b",
   "metadata": {},
   "source": [
    "| **Cột**             | **Cách xử lý**                                                                                                                                                                  |\n",
    "|---------------------|---------------------------------------------------------------------------------------------------------------------------------------------------------------------------------|\n",
    "| `product_name`      | Rút gọn tên sản phẩm, loại bỏ các ký tự đặc biệt                                                                                 |\n",
    "| `category`          | Đây là chuỗi phân cấp danh mục, ví dụ: `Computers&Accessories\\|Accessories&Peripherals\\|...\\|USBCables`. Có thể xử lý theo các cách:                                          |\n",
    "|                     | - Trích xuất danh mục **cụ thể nhất** (ví dụ: `USBCables`)                                                                                                                      |\n",
    "|                     | - Kết hợp danh mục **chính và cuối cùng** (ví dụ: `Computers&Accessories - USBCables`)                                                                                          |\n",
    "|                     | - Hoặc tách thành **các cột riêng biệt** theo từng cấp phân loại (ví dụ: `cat_lvl_1`, `cat_lvl_2`, ...)                                                                        |\n",
    "| `about_product`     | Rút gọn nội dung mô tả hoặc áp dụng các kỹ thuật xử lý ngôn ngữ tự nhiên (NLP): loại bỏ từ dừng, chuẩn hoá văn bản, tóm tắt nội dung.                                          |\n",
    "| `review_title`      | Làm sạch dấu câu, loại bỏ trùng lặp, chuẩn hoá chữ thường/hoa.                                  |\n",
    "| `review_content`    | Tương tự như `review_title`: làm sạch, chuẩn hoá, có thể dùng `tóm tắt`, `TF-IDF`, `Word2Vec` |"
   ]
  },
  {
   "cell_type": "code",
   "execution_count": 16,
   "id": "dbbf6b12",
   "metadata": {},
   "outputs": [
    {
     "name": "stdout",
     "output_type": "stream",
     "text": [
      "\n",
      "Giá trị null ở các cột:\n"
     ]
    },
    {
     "data": {
      "text/plain": [
       "product_id             0\n",
       "product_name           0\n",
       "category               0\n",
       "discounted_price       0\n",
       "actual_price           0\n",
       "discount_percentage    0\n",
       "rating                 0\n",
       "rating_count           2\n",
       "about_product          0\n",
       "user_id                0\n",
       "user_name              0\n",
       "review_id              0\n",
       "review_title           0\n",
       "review_content         0\n",
       "img_link               0\n",
       "product_link           0\n",
       "dtype: int64"
      ]
     },
     "execution_count": 16,
     "metadata": {},
     "output_type": "execute_result"
    }
   ],
   "source": [
    "print(\"\\nGiá trị null ở các cột:\")\n",
    "df.isnull().sum()"
   ]
  },
  {
   "cell_type": "code",
   "execution_count": 22,
   "id": "6cc1d0d0",
   "metadata": {},
   "outputs": [
    {
     "name": "stdout",
     "output_type": "stream",
     "text": [
      "\n",
      "Phần trăm giá trị null ở các cột:\n",
      "product_id             0.00\n",
      "product_name           0.00\n",
      "category               0.00\n",
      "discounted_price       0.00\n",
      "actual_price           0.00\n",
      "discount_percentage    0.00\n",
      "rating                 0.00\n",
      "rating_count           0.14\n",
      "about_product          0.00\n",
      "user_id                0.00\n",
      "user_name              0.00\n",
      "review_id              0.00\n",
      "review_title           0.00\n",
      "review_content         0.00\n",
      "img_link               0.00\n",
      "product_link           0.00\n",
      "dtype: float64\n"
     ]
    }
   ],
   "source": [
    "# Phần trăm giá trị null ở các cột\n",
    "print(\"\\nPhần trăm giá trị null ở các cột:\")\n",
    "print(df.isnull().mean().round(4) * 100)"
   ]
  },
  {
   "cell_type": "markdown",
   "id": "330a2fd7",
   "metadata": {},
   "source": [
    "Có cột rating_count có tỷ lệ % Null là 0.14%, có thể xóa/bỏ đi được. \n"
   ]
  },
  {
   "cell_type": "markdown",
   "id": "23610b3e",
   "metadata": {},
   "source": [
    "# 3. TIỀN XỬ LÝ DỮ LIỆU "
   ]
  },
  {
   "cell_type": "markdown",
   "id": "f53d6064",
   "metadata": {},
   "source": [
    "## 3.1. Chuẩn hóa định dạng các cột "
   ]
  },
  {
   "cell_type": "markdown",
   "id": "c8758de7",
   "metadata": {},
   "source": [
    "## 3.2. Làm sạch dữ liệu "
   ]
  },
  {
   "cell_type": "markdown",
   "id": "8f557fa9",
   "metadata": {},
   "source": [
    "# 4. KHÁM PHÁ VÀ PHÂN TÍCH DỮ LIỆU (EDA)"
   ]
  },
  {
   "cell_type": "markdown",
   "id": "9ba8f781",
   "metadata": {},
   "source": [
    "# 5. LOẠI BỎ OUTLIER, CHUẨN HÓA VĂN BẢN "
   ]
  }
 ],
 "metadata": {
  "kernelspec": {
   "display_name": "Python 3",
   "language": "python",
   "name": "python3"
  },
  "language_info": {
   "codemirror_mode": {
    "name": "ipython",
    "version": 3
   },
   "file_extension": ".py",
   "mimetype": "text/x-python",
   "name": "python",
   "nbconvert_exporter": "python",
   "pygments_lexer": "ipython3",
   "version": "3.11.7"
  }
 },
 "nbformat": 4,
 "nbformat_minor": 5
}
